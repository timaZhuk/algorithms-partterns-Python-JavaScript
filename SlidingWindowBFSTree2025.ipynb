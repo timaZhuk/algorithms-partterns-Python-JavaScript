{
  "nbformat": 4,
  "nbformat_minor": 0,
  "metadata": {
    "colab": {
      "provenance": [],
      "authorship_tag": "ABX9TyMUPSueKEMeFQ6EXeOQwKr4",
      "include_colab_link": true
    },
    "kernelspec": {
      "name": "python3",
      "display_name": "Python 3"
    },
    "language_info": {
      "name": "python"
    }
  },
  "cells": [
    {
      "cell_type": "markdown",
      "metadata": {
        "id": "view-in-github",
        "colab_type": "text"
      },
      "source": [
        "<a href=\"https://colab.research.google.com/github/timaZhuk/algorithms-partterns-Python-JavaScript/blob/main/SlidingWindowBFSTree2025.ipynb\" target=\"_parent\"><img src=\"https://colab.research.google.com/assets/colab-badge.svg\" alt=\"Open In Colab\"/></a>"
      ]
    },
    {
      "cell_type": "code",
      "execution_count": null,
      "metadata": {
        "id": "keYxbEg6B3OZ"
      },
      "outputs": [],
      "source": []
    },
    {
      "cell_type": "markdown",
      "source": [
        "# Algorithmic Patterns\n",
        "\n",
        "## Leetcode Problem 643\n",
        "## Maximum Average Subarray"
      ],
      "metadata": {
        "id": "793V3WPEC2he"
      }
    },
    {
      "cell_type": "code",
      "source": [
        "package main\n",
        "\n",
        "import (\n",
        "    \"fmt\"\n",
        "    \"math\"\n",
        ")\n",
        "\n",
        "\n",
        "func main(){\n",
        "    // width of our subarray, window\n",
        "    k := 4\n",
        "    // created integer array\n",
        "    nums := []int{1, 12, -5, -6, 50, 3}\n",
        "    answer:= findMaxAverage(nums, k)\n",
        "    fmt.Println(answer)\n",
        "\n",
        "}\n",
        "\n",
        "//creating the function , output float64\n",
        "func findMaxAverage(nums []int, k int) float64{\n",
        "    //max is equal -infinity, because if max average would be negative then we choose it\n",
        "    max :=math.Inf(-1)\n",
        "    for i:=0; i<len(nums); i++{\n",
        "        //accumulate sum of window subarray\n",
        "        windowSum :=0\n",
        "        for j:=0; j<k; j++{\n",
        "            //condition if k not go beyond the array limit\n",
        "            // k-1 because we including i-element (1+3)=4\n",
        "            if!(i+(k-1)>len(nums)-1){\n",
        "              windowSum +=nums[i+j]\n",
        "            }\n",
        "            else{\n",
        "                //terminating the loop\n",
        "                i=len(nums)\n",
        "                j=k\n",
        "            }//if-else statement\n",
        "        }/inner loop sliding along nums array\n",
        "    //inside outer for loop we check out the windowSum\n",
        "      if windowSum !=0 {\n",
        "          max = math.Max(max, float64(windowSum)/float64(k))\n",
        "      }\n",
        "\n",
        "    }//outer loop, main loop\n",
        "    //----------if max equal to -Infinity--function return 0------\n",
        "     if max == math.Inf(-1){\n",
        "     return 0\n",
        "    }\n",
        "    //otherwise we return the max value\n",
        "    return max\n",
        "} //function end"
      ],
      "metadata": {
        "id": "aN9yitCeB-Pe"
      },
      "execution_count": null,
      "outputs": []
    },
    {
      "cell_type": "code",
      "source": [
        "import math\n",
        "float(math.inf*(-1))"
      ],
      "metadata": {
        "colab": {
          "base_uri": "https://localhost:8080/"
        },
        "id": "wt_GwD-dfsHU",
        "outputId": "310a034a-d46e-4987-a42a-cb4c9c9de9f5"
      },
      "execution_count": null,
      "outputs": [
        {
          "output_type": "execute_result",
          "data": {
            "text/plain": [
              "-inf"
            ]
          },
          "metadata": {},
          "execution_count": 13
        }
      ]
    },
    {
      "cell_type": "code",
      "source": [],
      "metadata": {
        "id": "jazeANcEB-YA"
      },
      "execution_count": null,
      "outputs": []
    },
    {
      "cell_type": "markdown",
      "source": [
        "## Python Code\n",
        "## Naive algorithm"
      ],
      "metadata": {
        "id": "gi9gZyYCe7fu"
      }
    },
    {
      "cell_type": "code",
      "source": [
        "import math\n",
        "s_arr = [1, 12, -5, -6, 50, 3]\n",
        "#------------------------------------------\n",
        "def findMaxAverage(arr, k):\n",
        "  # built-in function that returns the maximum of (2-numbers)\n",
        "  def max_of_two(a, b):\n",
        "    \"\"\"Returns the maximum of two numbers.\n",
        "\n",
        "    Args:\n",
        "      a: The first number.\n",
        "      b: The second number.\n",
        "\n",
        "    Returns:\n",
        "      The maximum of a and b.\n",
        "    \"\"\"\n",
        "\n",
        "    if a > b:\n",
        "      return a\n",
        "    else:\n",
        "      return b\n",
        "\n",
        "  max1 = math.inf*(-1)\n",
        "\n",
        "  for i in range(0, len(arr)):\n",
        "    windowSum = 0\n",
        "    for j in range(0, k):\n",
        "      if not (i+(k-1)>len(arr)-1):\n",
        "        windowSum +=arr[i+j]\n",
        "      else:\n",
        "        i = len(arr)\n",
        "        j = k\n",
        "    if windowSum !=0:\n",
        "      max1 = max(max1, float(windowSum)/float(k))#max_of_two(max1, float(windowSum)/float(k))\n",
        "\n",
        "  if max1 == (math.inf*(-1)):\n",
        "    return 0\n",
        "  return max1\n"
      ],
      "metadata": {
        "id": "kpOqSC6cB-b6"
      },
      "execution_count": null,
      "outputs": []
    },
    {
      "cell_type": "code",
      "source": [
        "\n",
        "findMaxAverage(s_arr, 4)"
      ],
      "metadata": {
        "id": "UMtjCJurB-fY",
        "colab": {
          "base_uri": "https://localhost:8080/"
        },
        "outputId": "8f7a8438-40f1-41cf-8480-6b7066eb61f7"
      },
      "execution_count": null,
      "outputs": [
        {
          "output_type": "execute_result",
          "data": {
            "text/plain": [
              "12.75"
            ]
          },
          "metadata": {},
          "execution_count": 23
        }
      ]
    },
    {
      "cell_type": "markdown",
      "source": [
        "# SlidingWindow Real Optimization"
      ],
      "metadata": {
        "id": "0kNqL1KhopER"
      }
    },
    {
      "cell_type": "code",
      "source": [
        "package main\n",
        "\n",
        "import (\n",
        "    \"fmt\"\n",
        "    \"math\"\n",
        ")\n",
        "\n",
        "\n",
        "func main(){\n",
        "    // width of our subarray, window\n",
        "    k := 4\n",
        "    // created integer array\n",
        "    nums := []int{1, 12, -5, -6, 50, 3}\n",
        "    answer:= findMaxAverageSlidingWindow(nums, k)\n",
        "    fmt.Println(answer)\n",
        "\n",
        "}\n",
        "//creating the function , output float64\n",
        "func findMaxAverageSlidingWindow(nums []int, k int) float64{\n",
        "    // accumulate the calculated values\n",
        "    var windowSum int\n",
        "    var start int\n",
        "    max:=math.Inf(-1)\n",
        "\n",
        "    for end := 0; end < len(nums); end++{\n",
        "        // ---- add the numbers until the 'end' reach k values -----\n",
        "        window +=nums[end]\n",
        "        //if windows size ==k\n",
        "        if (end - start +1) == k{\n",
        "            //calculate average\n",
        "            max = math.Max(max, float64(windowSum)/float64(k))\n",
        "            //subtruckt the strat of old window\n",
        "            windowSum -=nums[start]\n",
        "            //increment 1 to the start (go ahead by one step)\n",
        "            start += 1\n",
        "        }\n",
        "    }//--outer loop\n",
        "\n",
        "    return max\n",
        "}//end of the function\n",
        "\n",
        "\n"
      ],
      "metadata": {
        "id": "cWoPyIIFB-if"
      },
      "execution_count": null,
      "outputs": []
    },
    {
      "cell_type": "code",
      "source": [],
      "metadata": {
        "id": "IC6iRoZnkyg8"
      },
      "execution_count": null,
      "outputs": []
    },
    {
      "cell_type": "markdown",
      "source": [
        "# Fruit Into Baskets SlidingWindow dynamic size"
      ],
      "metadata": {
        "id": "dkTC7LI9yDhw"
      }
    },
    {
      "cell_type": "code",
      "source": [
        "package main\n",
        "\n",
        "import(\n",
        "    \"fmt\"\n",
        "    \"math\"\n",
        ")\n",
        "\n",
        "func main(){\n",
        "    trees := []int{1, 2, 3, 2. 2}\n",
        "    answer := fruitIntoBasket(trees)\n",
        "    fmt.Println(answer)\n",
        "}\n",
        "\n",
        "func fruitIntoBasket(trees []int) int{\n",
        "    treeTypesMap := make(map[int]bool) // 1: true --1 fruit type(integer), true or false if we could put fruit in the basket\n",
        "    var max int //default = 0 max number of fruits\n",
        "    var start int //default = 0, starting index in array\n",
        "\n",
        "    //end -is index and treeType is value in array\n",
        "    for end, treeType := range trees{\n",
        "        //if treeMap length less than 2 and treeMap does not contain the type of fruit we have\n",
        "        if len(treeTypesMap) < 2 && !treeTypesMap[treeType]{\n",
        "          treeTypeMap[treeType] = true\n",
        "          max = int(math.Max(float64(max), float64(end-start+1)))\n",
        "            // if fruit in the basket, just change the max value\n",
        "        }else if treeTypesMap[treeType]{\n",
        "         max = int(math.Max(float64(max), float64(end-start+1)))\n",
        "\n",
        "         // if we reach out all length 2 and found out new fruit type\n",
        "         //then reset our basket\n",
        "         }\n",
        "        else{\n",
        "            treeTypesMap = make(map[int]bool)\n",
        "            //we add to map, the last fruit type(where we stop and reset map)\n",
        "            //'end'is current index\n",
        "            treeTypesMap[trees[end-1]] = true\n",
        "            treeTypeMap[trees[end]] = true\n",
        "            start = end -1\n",
        "\n",
        "            //check out previous trees (if they the same type)\n",
        "            //if Ok we move to previous step and add it to basket\n",
        "            for trees[start] == trees[start-1]{\n",
        "                start--\n",
        "            }//while-for lop\n",
        "\n",
        "            //calculate max number of fruits\n",
        "            max = int(math.Max(float64(max), float64(end-start+1)))\n",
        "        }//if else condition\n",
        "    }//for loop end\n",
        "    return int(max)\n",
        "\n",
        "}"
      ],
      "metadata": {
        "id": "WWrN8JuBkykU"
      },
      "execution_count": null,
      "outputs": []
    },
    {
      "cell_type": "code",
      "source": [],
      "metadata": {
        "id": "hjqFeX1Qkyn0"
      },
      "execution_count": null,
      "outputs": []
    },
    {
      "cell_type": "markdown",
      "source": [
        "# Python Code Dynamic tree Basket"
      ],
      "metadata": {
        "id": "Dxcu_-SQDKiY"
      }
    },
    {
      "cell_type": "code",
      "source": [
        "def fruitIntoBaskMax(arr):\n",
        "    #empty dict where we put our treeTypes[arr[index]]= True\n",
        "    treeTypesMap={}\n",
        "    # accumulate the max number of fruits\n",
        "    max_num = 0\n",
        "    # start initial pointer (window's start)\n",
        "    start = 0\n",
        "\n",
        "    for end in range(0, len(arr)):\n",
        "      #\n",
        "        if (len(treeTypesMap) < 2) and (arr[end] not in treeTypesMap):\n",
        "            treeTypesMap[arr[end]] = True\n",
        "            max_num = int(max(float(max_num),float(end-start+1)))\n",
        "        elif arr[end] in treeTypesMap:\n",
        "            max_num = int(max(float(max_num),float(end-start+1)))\n",
        "        else:\n",
        "            # --- reset the dict  treeTypesMap\n",
        "            treeTypesMap={}\n",
        "            # assign the key as previous value = arr[end-1] in array\n",
        "            treeTypesMap[arr[end-1]]=True\n",
        "\n",
        "            # assign kay as current arr[end]=value in array\n",
        "            treeTypesMap[arr[end]]=True\n",
        "            # change start\n",
        "            start = end -1\n",
        "\n",
        "            while arr[start] == arr[start-1]:\n",
        "                start -=1\n",
        "\n",
        "            # recalculate max number of fruits after reset of treeTypesMap\n",
        "            max_num = int(max(float(max_num),float(end-start+1)))\n",
        "    return max_num\n"
      ],
      "metadata": {
        "id": "8lyfthIgkyqw"
      },
      "execution_count": null,
      "outputs": []
    },
    {
      "cell_type": "code",
      "source": [
        "trees = [0, 1, 6, 6, 4, 4, 6]\n",
        "fruitIntoBaskMax(trees)"
      ],
      "metadata": {
        "id": "xlwucMJ0kyt7"
      },
      "execution_count": null,
      "outputs": []
    },
    {
      "cell_type": "markdown",
      "source": [
        "# slidingWindow Longest subString"
      ],
      "metadata": {
        "id": "1pnezCiELUwo"
      }
    },
    {
      "cell_type": "code",
      "source": [
        "import (\n",
        "    \"fmt\"\n",
        "    \"math\"\n",
        ")\n",
        "\n",
        "func main(){\n",
        "    s:= \"pwwkew\"\n",
        "    answer := longestSubStringWithoutRepeat(s)\n",
        "\n",
        "    fmt.Println(answer)\n",
        "\n",
        "}\n",
        "\n",
        "func longestSubStringWithoutRepeat(s string) int{\n",
        "    //empty map that could accumulate \"characters\" as keys and assign the boolean value\n",
        "    charMap := make(map[byte]bool)\n",
        "    //accumulate the length of substring\n",
        "    longestSubLen := 0\n",
        "    start := 0\n",
        "\n",
        "    // loop through the string\n",
        "    for end := range s{\n",
        "        char := s[end]\n",
        "\n",
        "        # if character is not in the charMap then add it there\n",
        "        if !charMap[char]{\n",
        "            charMap[char] = true\n",
        "             longestSubLen = int(math.Max(float64(longestSubLen),float64(end-start+1)))\n",
        "        }\n",
        "        else{\n",
        "            # if char is in our charMap\n",
        "            # while loop start\n",
        "            for charMap[char]{\n",
        "                # we assign the repeated char as false\n",
        "                charMap[s[start]] = false\n",
        "                # change start to next string char and start again loop throug\n",
        "                start++\n",
        "\n",
        "            } #inner for loop = while\n",
        "\n",
        "            # adfter we restart (change start to new index value)\n",
        "            # we assign this charMap[char] =true\n",
        "            charMap[char] = true\n",
        "\n",
        "        } # else-if statement\n",
        "    }# outer for loop\n",
        "    retur int( longestSubLen )\n",
        "}# function end"
      ],
      "metadata": {
        "id": "a5gzoTGHkywe"
      },
      "execution_count": null,
      "outputs": []
    },
    {
      "cell_type": "markdown",
      "source": [
        "# Loghest substring Python code"
      ],
      "metadata": {
        "id": "zsPXvQmuLcz5"
      }
    },
    {
      "cell_type": "code",
      "source": [
        "ef longSubStr(str):\n",
        "    # empty map that could accumulate \"characters\" as keys and assign the boolean value\n",
        "    charMap ={}\n",
        "    # accumulate the length of substring\n",
        "    longestSubLen = 0\n",
        "    start = 0\n",
        "\n",
        "    for end in range(0, len(str)):\n",
        "        # char at index end in the string\n",
        "        char = str[end]\n",
        "\n",
        "        # chexk if char is not in dict charMap\n",
        "        if char not in charMap:\n",
        "            charMap[char] = True\n",
        "            longestSubLen = int(max(float(longestSubLen),float(end-start+1)))\n",
        "        else:\n",
        "            # if char is in our charMap\n",
        "            # while loop start\n",
        "            while charMap[char]:\n",
        "                # we assign the repeated char as false\n",
        "                charMap[str[start]] = False\n",
        "                # change start to next string char and start again loop throug\n",
        "                start +=1\n",
        "\n",
        "            # adfter we restart (change start to new index value)\n",
        "            # we assign this charMap[char] =true\n",
        "            charMap[str[start]] = True\n",
        "\n",
        "    return longestSubLen\n"
      ],
      "metadata": {
        "id": "ANOIPFrXB-lz"
      },
      "execution_count": null,
      "outputs": []
    },
    {
      "cell_type": "code",
      "source": [
        "str_l= \"pwwkew\"\n",
        "longSubStr(str_l)"
      ],
      "metadata": {
        "id": "k2Xt-GwkLjSg"
      },
      "execution_count": null,
      "outputs": []
    },
    {
      "cell_type": "markdown",
      "source": [
        "# Sliding Window Pattern: 4/4 (Minimum Size Subarray Sum) Go"
      ],
      "metadata": {
        "id": "PeuxKSQqmLBe"
      }
    },
    {
      "cell_type": "code",
      "source": [
        "func main(){\n",
        "    target := 7\n",
        "    nums := []int{2,3,1,2,4,3}\n",
        "    answer := minsizeSubArrSum(target, nums)\n",
        "    fmt.Println(answer)\n",
        "\n",
        "}\n",
        "\n",
        "func  minsizeSubArrSum(target int, nums []int)int{\n",
        "    # sum of numbers inside window default = 0\n",
        "    var sum int\n",
        "    # accumulate the min len of sliding window\n",
        "    minLen :=0\n",
        "    # start =0\n",
        "    var start int\n",
        "\n",
        "    for end:=0; end < len(nums); end ++{\n",
        "        sum += nums[end]\n",
        "\n",
        "        # if sum reach this point and true then\n",
        "        # ---> while loop\n",
        "        for sum >= target{\n",
        "            # checkout that minLen not equal 0\n",
        "            # at least it would be 1\n",
        "            if minLen == 0 {\n",
        "                minLen = end - start +1\n",
        "            }# if else end\n",
        "\n",
        "            minLen = int(math.Min(float64(minLen),float64(end - start + 1)))\n",
        "            # we leave out the nums[start] elemnt from totl sum of window\n",
        "            sum -= nums[start]\n",
        "            # srinking our window\n",
        "            start +=1\n",
        "        }# while loop end\n",
        "\n",
        "    } # outer for loop\n",
        "\n",
        "    if minLen == 0{\n",
        "        return 0\n",
        "    }\n",
        "\n",
        "    return int(minLen)\n",
        "\n",
        "} # end of function"
      ],
      "metadata": {
        "id": "LpNV5JJ8LjVS"
      },
      "execution_count": null,
      "outputs": []
    },
    {
      "cell_type": "markdown",
      "source": [
        "# Python: Sliding Window Pattern: 4/4 (Minimum Size Subarray Sum)"
      ],
      "metadata": {
        "id": "Yl1VLqqAmTSO"
      }
    },
    {
      "cell_type": "code",
      "source": [
        "def minSizeSubArrSumPy(target, nums):\n",
        "    sum = 0\n",
        "    minLen = 0\n",
        "    start = 0\n",
        "\n",
        "    for end in range(0, len(nums)):\n",
        "        sum +=nums[end]\n",
        "\n",
        "        while sum >= target:\n",
        "            if minLen == 0:\n",
        "                minLen = end - start +1\n",
        "\n",
        "            minLen = int(min(float(minLen),float(end - start + 1)))\n",
        "\n",
        "            sum -=nums[start]\n",
        "            start += 1\n",
        "\n",
        "    if minLen == 0:\n",
        "        return 0\n",
        "\n",
        "    return int(minLen)"
      ],
      "metadata": {
        "id": "g_h8Vq62B-tB"
      },
      "execution_count": null,
      "outputs": []
    },
    {
      "cell_type": "code",
      "source": [
        "target_7 = 7\n",
        "minSumArr = [2,3,1,2,4,3]\n",
        "minSizeSubArrSumPy(target_7, minSumArr)"
      ],
      "metadata": {
        "id": "HL47vt2nmSpl"
      },
      "execution_count": null,
      "outputs": []
    },
    {
      "cell_type": "markdown",
      "source": [
        "# Breadth First Search\n",
        "## binary Tree\n",
        "\n",
        "## https://www.geeksforgeeks.org/deque-in-python/\n",
        "## https://docs.python.org/3/library/collections.html\n",
        "\n",
        "## Enqueue -->(element)   back[jedhffdlfd] front dequeue-->(element)"
      ],
      "metadata": {
        "id": "MqD2TaStKI6V"
      }
    },
    {
      "cell_type": "code",
      "source": [
        "from collections import deque\n",
        "\n",
        "class TreeNode:\n",
        "    def __init__(self, val=0, left=None, right=None):\n",
        "        self.val = val\n",
        "        self.left = left\n",
        "        self.right = right\n",
        "\n"
      ],
      "metadata": {
        "id": "uLOx0Ig1mSs1"
      },
      "execution_count": null,
      "outputs": []
    },
    {
      "cell_type": "code",
      "source": [
        "# function that creates the nested list of tree branches\n",
        "def levelOrder(root):\n",
        "    # if there is not root node --> return empty array\n",
        "    if not root:\n",
        "        return []\n",
        "\n",
        "    q = deque()\n",
        "    # append root element to right of queue\n",
        "    q.append(root)\n",
        "    # list where we will put our list of nodes\n",
        "    big_list = []\n",
        "    # while loop untill queue is notempty\n",
        "    while len(q):\n",
        "        # size of the level (node level)\n",
        "        size = len(q)\n",
        "        # individual list tht we add to the big_list (as node level)\n",
        "        small_list = []\n",
        "\n",
        "        # for loop without variable\n",
        "        # loop through the queue\n",
        "        for _ in range(size):\n",
        "            # delete elemnt from queue (left elemnt)\n",
        "            # save in node variable\n",
        "            node = q.popleft()\n",
        "            # append to the small_arr\n",
        "            small_list.append(node.val)\n",
        "\n",
        "            # check out if our deleted node from queue has children(left)\n",
        "            # we add them to the queue\n",
        "            if node.left:\n",
        "                q.append(node.left)\n",
        "\n",
        "            # the same for right node, children\n",
        "            if node.right:\n",
        "                q.append(node.right)\n",
        "\n",
        "\n",
        "            #---------------------------------\n",
        "        big_list.append(small_list)\n",
        "\n",
        "    return big_list"
      ],
      "metadata": {
        "id": "tIrWYt61mS2O"
      },
      "execution_count": null,
      "outputs": []
    },
    {
      "cell_type": "code",
      "source": [
        "# [3, 9, 20, null, null, 15, 17]\n",
        "#\n",
        "head = TreeNode(3)\n",
        "head.left = TreeNode(9, None, None)\n",
        "head.right = TreeNode(20, TreeNode(15, None, None), TreeNode(7, None, None))\n",
        "print(levelOrder(head))"
      ],
      "metadata": {
        "id": "x40M-9ivKurz"
      },
      "execution_count": null,
      "outputs": []
    },
    {
      "cell_type": "markdown",
      "source": [
        "# Breadth First Search (BFS) Pattern: 2/3 (Average of Levels in Binary Tree)"
      ],
      "metadata": {
        "id": "1bXtpmfLijvQ"
      }
    },
    {
      "cell_type": "code",
      "source": [
        "from collections import deque\n",
        "\n",
        "# Defenition for a binary tree node\n",
        "class TreeNode:\n",
        "    def __init__(self, val=0, left=None, right=None):\n",
        "        self.val = val\n",
        "        self.left = left\n",
        "        self.right = right\n",
        "\n",
        "bt = TreeNode(3)\n",
        "bt.left = TreeNode(9, None, None)\n",
        "bt.right =TreeNode(20, TreeNode(15, None, None), TreeNode(7, None, None))\n"
      ],
      "metadata": {
        "id": "IdQGBfXoKuuz"
      },
      "execution_count": null,
      "outputs": []
    },
    {
      "cell_type": "code",
      "source": [
        "def averageOfLevels(root):\n",
        "    # if root not exist return empty list\n",
        "    if not root:\n",
        "        return []\n",
        "\n",
        "    # create empty deque\n",
        "    q = deque()\n",
        "\n",
        "    # add root (to right) to deque\n",
        "    q.append(root)\n",
        "\n",
        "    # create empty list where we will append average values\n",
        "    al =[]\n",
        "\n",
        "    # start while loop until deque is not empty\n",
        "    while len(q):\n",
        "        # sum of our values in Tree (for particular level)\n",
        "        sum_vals = 0\n",
        "        # the size of the curent level (number of el in Tree level)\n",
        "        size = len(q)\n",
        "\n",
        "        # for loop without values which go through node chiled (level)\n",
        "        for _ in range(size):\n",
        "\n",
        "            # delete with returning element from deque\n",
        "            node = q.popleft()\n",
        "\n",
        "            # add up each element in current level\n",
        "            sum_vals += node.val\n",
        "\n",
        "            # if node has left chiled (add to the deque)\n",
        "            if node.left:\n",
        "                q.append(node.left)\n",
        "\n",
        "            # if node has right chiled (add to the deque)\n",
        "            if node.right:\n",
        "                q.append(node.right)\n",
        "\n",
        "        # add average value of Tree level elements\n",
        "        al.append(sum_vals/size)\n",
        "\n",
        "    # return final list with average values\n",
        "    return al"
      ],
      "metadata": {
        "id": "GRy5Jk9dK5LJ"
      },
      "execution_count": null,
      "outputs": []
    },
    {
      "cell_type": "markdown",
      "source": [
        "# Breadth First Search (BFS) Pattern: 3/3 (Minimum Depth of Binary Tree)"
      ],
      "metadata": {
        "id": "PTIRmKeq2XEq"
      }
    },
    {
      "cell_type": "code",
      "source": [
        "from collections import deque\n",
        "\n",
        "class TreeNode:\n",
        "    def __init__(self, val=0, left=None, right=None):\n",
        "        self.val = val\n",
        "        self.left = left\n",
        "        self.right = right\n",
        "\n",
        "\n",
        "head = TreeNode(3)\n",
        "head.left = TreeNode(9, None, None)#TreeNode(9, TreeNode(11, None, None), None)\n",
        "head.right = TreeNode(20, TreeNode(15, None, None), TreeNode(7, None, None))"
      ],
      "metadata": {
        "id": "L7LzHCIYK5PM"
      },
      "execution_count": null,
      "outputs": []
    },
    {
      "cell_type": "code",
      "source": [
        "def minDepth(root):\n",
        "    #empty deque\n",
        "    q = deque()\n",
        "\n",
        "    #checking our root exist or None\n",
        "    if not root:\n",
        "        return 0\n",
        "    # append (to right) root element to deque\n",
        "    q.append(root)\n",
        "\n",
        "    # counting our depth level\n",
        "    # we will add up level number each iteration\n",
        "    level_count =0\n",
        "\n",
        "    # if deque is not empty\n",
        "    while len(q):\n",
        "        # save the current deque length\n",
        "        level_size = len(q)\n",
        "\n",
        "        # add this current level to the  counter of level depth\n",
        "        level_count +=1\n",
        "\n",
        "        for _ in range(level_size):\n",
        "            # delete from deque and save in node\n",
        "            node = q.popleft()\n",
        "\n",
        "            # if node does not have children --> return level counter\n",
        "            if not node.left and not node.right:\n",
        "                return level_count\n",
        "\n",
        "            if node.left:\n",
        "                q.append(node.left)\n",
        "\n",
        "            if node.right:\n",
        "                q.append(node.right)\n",
        "\n",
        "\n"
      ],
      "metadata": {
        "id": "xcgpQjQ72aib"
      },
      "execution_count": null,
      "outputs": []
    },
    {
      "cell_type": "code",
      "source": [
        "minDepth(head)"
      ],
      "metadata": {
        "id": "FkiF_I762ald"
      },
      "execution_count": null,
      "outputs": []
    },
    {
      "cell_type": "markdown",
      "source": [
        "#Merge SORT JS"
      ],
      "metadata": {
        "id": "9F3-juSz1hAv"
      }
    },
    {
      "cell_type": "code",
      "source": [
        "function mergeSort(arr){\n",
        "    if (arr.length <2) return arr\n",
        "\n",
        "    const middleIndex = Math.floor(arr.length/2)\n",
        "    //split array by two parts\n",
        "    const leftArr = arr.slice(0, middleIndex)\n",
        "    const rightArr  arr.slice(middleIndex, arr.length)\n",
        "    // recurrcsive call\n",
        "    return merge(mergeSort(leftArr), mergeSort(rightArr))\n",
        "\n",
        "}\n",
        "\n",
        "function merge(leftArr, rightArr){\n",
        "    let resultArr = []\n",
        "    let leftIndex = 0\n",
        "    let rightIndex = 0\n",
        "\n",
        "    while(leftIndex < leftArr.length && rightIndex < rightArr.length){\n",
        "        if (leftArr[leftIndex] < rightArr[rightIndex]){\n",
        "            resultArr.push(LeftArr[leftIndex])\n",
        "            leftIndex += 1\n",
        "        }\n",
        "        else{\n",
        "          rightArr.push(rightArr[rightIndex])\n",
        "            rightIndex += 1\n",
        "\n",
        "        }\n",
        "    }//while loop end\n",
        "\n",
        "    return resultrr.concat(leftarr.slice(leftIndex)).concat(rightArr.slice(rightIndex))\n",
        "\n",
        "}"
      ],
      "metadata": {
        "id": "1idURc4yK5Sq"
      },
      "execution_count": null,
      "outputs": []
    },
    {
      "cell_type": "code",
      "source": [],
      "metadata": {
        "id": "ZP02SZGpKuyq"
      },
      "execution_count": null,
      "outputs": []
    },
    {
      "cell_type": "code",
      "source": [],
      "metadata": {
        "id": "2F7bYNj8guiy"
      },
      "execution_count": null,
      "outputs": []
    },
    {
      "cell_type": "code",
      "source": [],
      "metadata": {
        "id": "3hg5wnbNguls"
      },
      "execution_count": null,
      "outputs": []
    },
    {
      "cell_type": "code",
      "source": [],
      "metadata": {
        "id": "honaFR_Pguoc"
      },
      "execution_count": null,
      "outputs": []
    },
    {
      "cell_type": "markdown",
      "source": [
        "# Code Repeating"
      ],
      "metadata": {
        "id": "Ti_KJ1OOgwej"
      }
    },
    {
      "cell_type": "code",
      "source": [
        "from collections import deque\n",
        "\n",
        "\n",
        "def levelTreeOrder(root):\n",
        "  if not root:\n",
        "    return []\n",
        "\n",
        "  q = deque()\n",
        "\n",
        "  q.append(root)\n",
        "\n",
        "  big_list = []\n",
        "\n",
        "  while len(q):\n",
        "    size = len(q)\n",
        "    small_list = []\n",
        "\n",
        "    for _ in range(size):\n",
        "      node = q.popleft()\n",
        "      small_list.append(node.val)\n",
        "\n",
        "      if node.left:\n",
        "        q.append(node.left)\n",
        "\n",
        "      if node.right:\n",
        "        q.append(node.right)\n",
        "\n",
        "    big_list.append(small_list)\n",
        "\n",
        "  return big_list\n",
        "\n",
        "# defenition for a binary tree node\n",
        "class TreeNode:\n",
        "  def __init__(self, val = 0, left=None, right=None):\n",
        "    self.val= val\n",
        "    self.left = left\n",
        "    self.right = right\n",
        "\n",
        "# define the values and instance of node\n",
        "# [3, 9, 20, null, null, 15, 7]\n",
        "\n",
        "head = TreeNode(3)\n",
        "head.left = TreeNode(9, None, None)\n",
        "head.right = TreeNode(20, TreeNode(15, None, None), TreeNode(7, None, None))\n",
        "\n",
        "print(levelTreeOrder(head))"
      ],
      "metadata": {
        "colab": {
          "base_uri": "https://localhost:8080/"
        },
        "id": "yF1_EpCYgutK",
        "outputId": "da0019e8-7540-4970-ad19-691f2e8c188d"
      },
      "execution_count": null,
      "outputs": [
        {
          "output_type": "stream",
          "name": "stdout",
          "text": [
            "[[3], [9, 20], [15, 7]]\n"
          ]
        }
      ]
    },
    {
      "cell_type": "markdown",
      "source": [
        "# Average of Tree Levels"
      ],
      "metadata": {
        "id": "qKrjpiNbvojr"
      }
    },
    {
      "cell_type": "code",
      "source": [
        "\n",
        "from collections import deque\n",
        "\n",
        "def averageTreeLevels2(root):\n",
        "  if not root:\n",
        "    return []\n",
        "\n",
        "\n",
        "  q = deque()\n",
        "\n",
        "  q.append(root)\n",
        "\n",
        "  avr_list = []\n",
        "\n",
        "  while len(q):\n",
        "    sum_val = 0\n",
        "    size = len(q)\n",
        "\n",
        "    for _ in range(size):\n",
        "      node = q.popleft()\n",
        "\n",
        "      sum_val += node.val\n",
        "\n",
        "      if node.left:\n",
        "        q.append(node.left)\n",
        "\n",
        "      if node.right:\n",
        "        q.append(node.right)\n",
        "\n",
        "    avr_list.append(sum_val/size)\n",
        "\n",
        "  return avr_list\n",
        "\n",
        "# defenition for a binary tree node\n",
        "class TreeNode:\n",
        "  def __init__(self, val = 0, left=None, right=None):\n",
        "    self.val= val\n",
        "    self.left = left\n",
        "    self.right = right\n",
        "\n",
        "# define the values and instance of node\n",
        "# [3, 9, 20, null, null, 15, 7]\n",
        "\n",
        "head = TreeNode(3)\n",
        "head.left = TreeNode(9, None, None)\n",
        "head.right = TreeNode(20, TreeNode(15, None, None), TreeNode(7, None, None))\n",
        "\n",
        "print(averageTreeLevels2(head))"
      ],
      "metadata": {
        "colab": {
          "base_uri": "https://localhost:8080/"
        },
        "id": "v4JshTlTg0MI",
        "outputId": "c47d4149-e3b9-4c54-89b9-45362550efdc"
      },
      "execution_count": null,
      "outputs": [
        {
          "output_type": "stream",
          "name": "stdout",
          "text": [
            "[3.0, 14.5, 11.0]\n"
          ]
        }
      ]
    },
    {
      "cell_type": "code",
      "source": [],
      "metadata": {
        "id": "qzKP_Jchg0PT"
      },
      "execution_count": null,
      "outputs": []
    },
    {
      "cell_type": "code",
      "source": [],
      "metadata": {
        "id": "G5sd1c4xg0Rz"
      },
      "execution_count": null,
      "outputs": []
    },
    {
      "cell_type": "code",
      "source": [],
      "metadata": {
        "id": "SlI4Bvvmguv6"
      },
      "execution_count": null,
      "outputs": []
    },
    {
      "cell_type": "code",
      "source": [],
      "metadata": {
        "id": "L1_m-Oosguyl"
      },
      "execution_count": null,
      "outputs": []
    }
  ]
}