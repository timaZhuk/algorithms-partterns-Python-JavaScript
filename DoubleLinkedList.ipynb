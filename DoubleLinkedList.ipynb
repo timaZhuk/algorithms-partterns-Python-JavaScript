{
  "nbformat": 4,
  "nbformat_minor": 0,
  "metadata": {
    "colab": {
      "provenance": [],
      "authorship_tag": "ABX9TyNcJp6lTQUG/NF+XLxJiiua",
      "include_colab_link": true
    },
    "kernelspec": {
      "name": "python3",
      "display_name": "Python 3"
    },
    "language_info": {
      "name": "python"
    }
  },
  "cells": [
    {
      "cell_type": "markdown",
      "metadata": {
        "id": "view-in-github",
        "colab_type": "text"
      },
      "source": [
        "<a href=\"https://colab.research.google.com/github/timaZhuk/algorithms-partterns-Python-JavaScript/blob/main/DoubleLinkedList.ipynb\" target=\"_parent\"><img src=\"https://colab.research.google.com/assets/colab-badge.svg\" alt=\"Open In Colab\"/></a>"
      ]
    },
    {
      "cell_type": "markdown",
      "source": [
        "# Double LinkedList"
      ],
      "metadata": {
        "id": "698QjLv-efuw"
      }
    },
    {
      "cell_type": "code",
      "source": [
        "# Creating Node class with pointers\n",
        "class Node:\n",
        "  def __init__(self, data=None, next=None, prev=None):\n",
        "    self.data = data\n",
        "    self.next = next\n",
        "    self.prev = prev"
      ],
      "metadata": {
        "id": "TFop9JS6ebXg"
      },
      "execution_count": null,
      "outputs": []
    },
    {
      "cell_type": "code",
      "source": [
        "class DoublyLinkedList:\n",
        "  def __init__(self):\n",
        "    self.head = None\n",
        "\n",
        "#--- print the Double LinkedList\n",
        "  def print_forward(self):\n",
        "    if self.head is None:\n",
        "      print('LinkedList is empty')\n",
        "      return\n",
        "\n",
        "    itr = self.head\n",
        "    llstr=''\n",
        "    while itr:\n",
        "      llstr +=itr.data +'=>' if itr.next else itr.data\n",
        "\n",
        "      itr = itr.next\n",
        "\n",
        "    print(llstr)\n",
        "\n",
        "  #--- get the last element\n",
        "  def get_last_node(self):\n",
        "    itr = self.head\n",
        "\n",
        "    #---we have to stop when next=Null or None\n",
        "    while itr.next:\n",
        "      itr = itr.next\n",
        "\n",
        "    return itr\n",
        "\n",
        "  #--- print the linked list backwards\n",
        "  def print_backwards(self):\n",
        "    if self.head is None:\n",
        "      print('Linked list is empty')\n",
        "      return\n",
        "\n",
        "    last_node = self.get_last_node()\n",
        "    itr = last_node\n",
        "    llstr = ''\n",
        "    while itr:\n",
        "      llstr += itr.data +'=>' if itr.prev else itr.data\n",
        "      itr = itr.prev\n",
        "\n",
        "    print(llstr)\n",
        "\n",
        "  # get length of LinkedList\n",
        "  def get_length(self):\n",
        "    count = 0\n",
        "    itr = self.head\n",
        "    while itr:\n",
        "      count +=1\n",
        "      itr = itr.next\n",
        "\n",
        "    return count\n",
        "\n",
        "  # insert element at the begining\n",
        "  def insert_at_the_begining(self, data):\n",
        "    if self.head is None:\n",
        "      node = Node(data, self.head, None)\n",
        "      self.head = node\n",
        "    else:\n",
        "      node = Node(data, self.head, None)\n",
        "      self.head.prev = node\n",
        "      self.head = node\n",
        "\n",
        "  # insert element ath the end of list\n",
        "  def insert_at_the_end(self, data):\n",
        "    if self.head is None:\n",
        "      node = Node(data, None, None)\n",
        "      self.head = node\n",
        "      return\n",
        "\n",
        "    itr = self.head\n",
        "    while itr.next:\n",
        "      itr = itr.next\n",
        "\n",
        "    node = Node(data, None, itr)\n",
        "    itr.next = node\n",
        "\n",
        "  def insert_at(self, index, data):\n",
        "    if index < 0 or index >=self.get_length():\n",
        "      raise Exception('Inavlid index')\n",
        "\n",
        "    if index == 0:\n",
        "      self.insert_at_the_begining(data)\n",
        "      return\n",
        "\n",
        "    count = 0\n",
        "    itr = self.head\n",
        "    while itr:\n",
        "      if count == index-1:\n",
        "        node = Node(data, itr.next, itr)\n",
        "        if node.next:\n",
        "          node.next.prev = node\n",
        "        itr.next = node\n",
        "        break\n",
        "\n",
        "      count +=1\n",
        "      itr = itr.next\n",
        "\n",
        "  #remove at index\n",
        "  def remove_at(self, index):\n",
        "    if index <0 or index >=self.get_length():\n",
        "      raise Exception('Invalid index')\n",
        "\n",
        "    if index == 0:\n",
        "      self.head = self.head.next\n",
        "      self.head.prev = None\n",
        "      return\n",
        "\n",
        "    if index == self.get_length()-1:\n",
        "      last_node = self.get_last_node()\n",
        "      last_node.prev.next = None\n",
        "\n",
        "\n",
        "    count = 0\n",
        "    itr = self.head\n",
        "\n",
        "    while itr:\n",
        "      if count ==index-1:\n",
        "        itr.next = itr.next.next\n",
        "        itr.next.prev = itr\n",
        "\n",
        "\n",
        "      count +=1\n",
        "      itr = itr.next\n",
        "\n",
        "  #insert data\n",
        "  def insert_values(self, data_list):\n",
        "    self.head = None\n",
        "    for data in data_list:\n",
        "      self.insert_at_the_end(data)\n",
        "\n"
      ],
      "metadata": {
        "id": "9rir1eOMebaI"
      },
      "execution_count": null,
      "outputs": []
    },
    {
      "cell_type": "code",
      "source": [],
      "metadata": {
        "id": "beptjeiQebco"
      },
      "execution_count": null,
      "outputs": []
    }
  ]
}